{
 "cells": [
  {
   "cell_type": "markdown",
   "metadata": {},
   "source": [
    "### ndarray 연산"
   ]
  },
  {
   "cell_type": "markdown",
   "metadata": {},
   "source": [
    "### 기본 연산"
   ]
  },
  {
   "cell_type": "code",
   "execution_count": 1,
   "metadata": {},
   "outputs": [],
   "source": [
    "import numpy as np"
   ]
  },
  {
   "cell_type": "code",
   "execution_count": 5,
   "metadata": {},
   "outputs": [
    {
     "name": "stdout",
     "output_type": "stream",
     "text": [
      "[[1 2 3]\n",
      " [4 5 6]\n",
      " [7 8 9]]\n",
      "[[3 3 3]\n",
      " [3 3 3]\n",
      " [3 3 3]]\n"
     ]
    }
   ],
   "source": [
    "arr_a = np.arange(1,10).reshape(3,3)\n",
    "arr_b = np.full_like(arr_a,3)\n",
    "print(arr_a)\n",
    "print(arr_b)"
   ]
  },
  {
   "cell_type": "code",
   "execution_count": 7,
   "metadata": {},
   "outputs": [
    {
     "name": "stdout",
     "output_type": "stream",
     "text": [
      "[[ 4  5  6]\n",
      " [ 7  8  9]\n",
      " [10 11 12]]\n",
      "[[ 4  5  6]\n",
      " [ 7  8  9]\n",
      " [10 11 12]]\n"
     ]
    }
   ],
   "source": [
    "print(arr_a+arr_b)\n",
    "print(np.add(arr_a,arr_b))"
   ]
  },
  {
   "cell_type": "code",
   "execution_count": 14,
   "metadata": {},
   "outputs": [
    {
     "name": "stdout",
     "output_type": "stream",
     "text": [
      "[[-2 -1  0]\n",
      " [ 1  2  3]\n",
      " [ 4  5  6]]\n"
     ]
    }
   ],
   "source": [
    "# 뺄셈\n",
    "print(arr_a-arr_b)"
   ]
  },
  {
   "cell_type": "code",
   "execution_count": 13,
   "metadata": {},
   "outputs": [
    {
     "name": "stdout",
     "output_type": "stream",
     "text": [
      "[[ 3  6  9]\n",
      " [12 15 18]\n",
      " [21 24 27]]\n"
     ]
    }
   ],
   "source": [
    "# 곱셈\n",
    "print(arr_a*arr_b)"
   ]
  },
  {
   "cell_type": "code",
   "execution_count": 17,
   "metadata": {},
   "outputs": [
    {
     "name": "stdout",
     "output_type": "stream",
     "text": [
      "[[0.33333333 0.66666667 1.        ]\n",
      " [1.33333333 1.66666667 2.        ]\n",
      " [2.33333333 2.66666667 3.        ]]\n"
     ]
    }
   ],
   "source": [
    "# 나눗셈\n",
    "print(arr_a / arr_b)"
   ]
  },
  {
   "cell_type": "code",
   "execution_count": 26,
   "metadata": {},
   "outputs": [
    {
     "name": "stdout",
     "output_type": "stream",
     "text": [
      "[[                   1                   16                19683]\n",
      " [          4294967296   298023223876953125 -5108087961858080768]\n",
      " [ 6812400838176574343                    0  8677311020002933897]]\n",
      "[[                   1                   16                19683]\n",
      " [          4294967296   298023223876953125 -5108087961858080768]\n",
      " [ 6812400838176574343                    0  8677311020002933897]]\n",
      "[[ 1  4  9]\n",
      " [16 25 36]\n",
      " [49 64 81]]\n"
     ]
    }
   ],
   "source": [
    "# 특수 연산 1 : 거듭 제곰\n",
    "print(arr_a ** arr_b)\n",
    "print(np.power(arr_a,arr_b))\n",
    "print(np.square(arr_a)) # 제곱\n"
   ]
  },
  {
   "cell_type": "code",
   "execution_count": 31,
   "metadata": {},
   "outputs": [
    {
     "name": "stdout",
     "output_type": "stream",
     "text": [
      "[[1 0 0]\n",
      " [0 0 0]\n",
      " [0 0 0]]\n",
      "[[1 0 0]\n",
      " [0 0 0]\n",
      " [0 0 0]]\n"
     ]
    }
   ],
   "source": [
    "# 특수 연산 2 : 몫\n",
    "print(arr_a // arr_b)\n",
    "print(np.floor_divide(arr_a,arr_b))\n"
   ]
  },
  {
   "cell_type": "code",
   "execution_count": 32,
   "metadata": {},
   "outputs": [
    {
     "name": "stdout",
     "output_type": "stream",
     "text": [
      "[[0 2 3]\n",
      " [4 5 6]\n",
      " [7 8 9]]\n",
      "[[0 2 3]\n",
      " [4 5 6]\n",
      " [7 8 9]]\n"
     ]
    }
   ],
   "source": [
    "# 특수 연산 3 : 나머지\n",
    "print(arr_a % arr_b)\n",
    "print(np.mod(arr_a,arr_b))"
   ]
  },
  {
   "cell_type": "code",
   "execution_count": 33,
   "metadata": {},
   "outputs": [
    {
     "name": "stdout",
     "output_type": "stream",
     "text": [
      "[[1.         1.41421356 1.73205081]\n",
      " [2.         2.23606798 2.44948974]\n",
      " [2.64575131 2.82842712 3.        ]]\n"
     ]
    }
   ],
   "source": [
    "# 특수 연산 4 : 제곱근\n",
    "print(np.sqrt(arr_a))"
   ]
  },
  {
   "cell_type": "markdown",
   "metadata": {},
   "source": [
    "다음과 같은 과일 판매량 데이터가 있습니다. 각 과일의 1분기와 2분기 판매량이 주어졌을 때, NumPy 배열을 사용하여 아래 문제를 해결하세요.\n",
    "\n",
    "1. 1분기와 2분기의 과일별 총 판매량을 구하세요.\n",
    "2. 과일별 평균 판매량을 구하세요.\n",
    "\n",
    "- **데이터**:\n",
    "    - 1분기 판매량: `[200, 340, 150, 400]` (사과, 배, 오렌지, 바나나)\n",
    "    - 2분기 판매량: `[220, 300, 180, 420]` (사과, 배, 오렌지, 바나나)"
   ]
  },
  {
   "cell_type": "code",
   "execution_count": 53,
   "metadata": {},
   "outputs": [
    {
     "name": "stdout",
     "output_type": "stream",
     "text": [
      "[420 640 330 820]\n"
     ]
    },
    {
     "data": {
      "text/plain": [
       "array([[ 1.,  3.,  6.],\n",
       "       [10., 15., 21.],\n",
       "       [28., 36., 45.]])"
      ]
     },
     "execution_count": 53,
     "metadata": {},
     "output_type": "execute_result"
    }
   ],
   "source": [
    "sales_1 = [200,340,150,400]\n",
    "sales_2 = [220,300,180,420]\n",
    "print(np.add(sales_1,sales_2))\n",
    "np.divide(np.add(arr_a,arr_b),2)"
   ]
  },
  {
   "cell_type": "markdown",
   "metadata": {},
   "source": [
    "다음 두 배열을 사용하여 각각의 요소별로 덧셈, 뺄셈, 곱셈, 나눗셈을 수행하세요."
   ]
  },
  {
   "cell_type": "code",
   "execution_count": 41,
   "metadata": {},
   "outputs": [
    {
     "name": "stdout",
     "output_type": "stream",
     "text": [
      "[11 22 33 44]\n",
      "[ 9 18 27 36]\n",
      "[ 10  40  90 160]\n",
      "[10. 10. 10. 10.]\n"
     ]
    }
   ],
   "source": [
    "arr1 = np.array([10, 20, 30, 40])\n",
    "arr2 = np.array([1, 2, 3, 4])\n",
    "\n",
    "print(np.add(arr1,arr2))\n",
    "print(np.subtract(arr1,arr2))\n",
    "print(np.multiply(arr1,arr2))\n",
    "print(np.divide(arr1,arr2))"
   ]
  },
  {
   "cell_type": "markdown",
   "metadata": {},
   "source": [
    "##### broadcasting 연산\n",
    "- 두 배열의 shape이 다르면 broadingcasting 연산을 수행한다\n",
    "- shape이 작은 쪽이 큰 쪽에 맞춰 확장한다.\n",
    "- 두 배열의 행 또는 열이 일치해야 확장 가능하다.\n",
    "- 크기가 1인 경우 무조건 확장 가능하다.\n",
    "- shape이 다른 경우 마지막 축부터 차원이 동일한지 비교한다."
   ]
  },
  {
   "cell_type": "code",
   "execution_count": 54,
   "metadata": {},
   "outputs": [
    {
     "data": {
      "text/plain": [
       "array([[1, 2, 3],\n",
       "       [4, 5, 6],\n",
       "       [7, 8, 9]])"
      ]
     },
     "execution_count": 54,
     "metadata": {},
     "output_type": "execute_result"
    }
   ],
   "source": [
    "result_arr = arr_a * np.array([[5,5,5],[5,5,5,],[5,5,5]])\n",
    "result_arr = arr_a * np.array([5,5,5])\n",
    "result_arr = arr_a * np.array([5])\n",
    "resutl_arr = arr_a\n",
    "resutl_arr\n"
   ]
  },
  {
   "cell_type": "code",
   "execution_count": 55,
   "metadata": {},
   "outputs": [
    {
     "data": {
      "text/plain": [
       "array([[ 6, 12, 18],\n",
       "       [ 9, 15, 21],\n",
       "       [12, 18, 24]])"
      ]
     },
     "execution_count": 55,
     "metadata": {},
     "output_type": "execute_result"
    }
   ],
   "source": [
    "arr1 = np.array([[1,2,3],[4,5,6],[7,8,9]])\n",
    "arr2 = np.array([5,10,15]) # (3,)\n",
    "arr1+arr2"
   ]
  },
  {
   "cell_type": "code",
   "execution_count": 61,
   "metadata": {},
   "outputs": [
    {
     "name": "stdout",
     "output_type": "stream",
     "text": [
      "[[101 102 103]\n",
      " [204 205 206]]\n"
     ]
    }
   ],
   "source": [
    "arr1 = np.array([[1,2,3],[4,5,6]])\n",
    "arr2 = np.array([[100],[200]])\n",
    "print(arr1+arr2)\n"
   ]
  },
  {
   "cell_type": "code",
   "execution_count": 67,
   "metadata": {},
   "outputs": [
    {
     "data": {
      "text/plain": [
       "array([[5, 6, 7],\n",
       "       [6, 7, 8],\n",
       "       [7, 8, 9]])"
      ]
     },
     "execution_count": 67,
     "metadata": {},
     "output_type": "execute_result"
    }
   ],
   "source": [
    "arr1 = np.array([1,2,3])\n",
    "arr2 = np.array([[4],[5],[6]])\n",
    "arr1.shape,arr2.shape\n",
    "arr1+arr2"
   ]
  },
  {
   "cell_type": "code",
   "execution_count": 73,
   "metadata": {},
   "outputs": [],
   "source": [
    "arr1 = np.array([[1,2,3],[1,2,3]]) # (2,3)\n",
    "arr2 = np.array([1,2]) #(2,)\n",
    "# arr1+arr2  에러 행의 갯수가 맞지 않음"
   ]
  },
  {
   "cell_type": "markdown",
   "metadata": {},
   "source": [
    "##### 행렬 곱셈\n",
    "- 점곱연산 (Dot Product / 내적)\n",
    "    - 두 행렬 A,B의 곱셈은 첫 번째 행렬 A의 행과 두 번째 행렬 B의 열간의 곱셈을 수행한다.\n",
    "    - 첫 번째 행렬 A의 열의 수와 두번째 행렬 B의 행의 수가 같아야 한다. \n",
    "    - 연산 결과의 shape은 (첫 번째 행렬 A의 행 수,두번째 행렬 B의 열 수)이다."
   ]
  },
  {
   "cell_type": "code",
   "execution_count": 87,
   "metadata": {},
   "outputs": [
    {
     "name": "stdout",
     "output_type": "stream",
     "text": [
      "[[ 5 12]\n",
      " [21 32]]\n",
      "(2, 2) (2, 2) (2, 2)\n",
      "[[19 22]\n",
      " [43 50]]\n"
     ]
    }
   ],
   "source": [
    "arr1 = np.array([[1,2],[3,4]])\n",
    "arr2 = np.array([[5,6],[7,8]])\n",
    "print(arr1*arr2)\n",
    "print(arr1.shape,arr2.shape,(arr1*arr2).shape)\n",
    "print(np.dot(arr1,arr2))"
   ]
  },
  {
   "cell_type": "code",
   "execution_count": 101,
   "metadata": {},
   "outputs": [
    {
     "name": "stdout",
     "output_type": "stream",
     "text": [
      "[[ 39  54  69]\n",
      " [ 49  68  87]\n",
      " [ 59  82 105]]\n"
     ]
    },
    {
     "data": {
      "text/plain": [
       "((2, 3), (3, 2))"
      ]
     },
     "execution_count": 101,
     "metadata": {},
     "output_type": "execute_result"
    }
   ],
   "source": [
    "arr3 = np.array([[1,2,3],[4,5,6]])\n",
    "arr4 = np.array([[7,8],[9,10],[11,12]])\n",
    "print(np.dot(arr4,arr3))\n",
    "arr3.shape,arr4.shape\n",
    "# np.dot(arr4,arr3) -> (2,3) * (3,2) = (2,2)\n",
    "# np.dot(arr3,arr4) -> (3,2) * (2,3) = (3,3)"
   ]
  },
  {
   "cell_type": "code",
   "execution_count": 102,
   "metadata": {},
   "outputs": [],
   "source": [
    "# Quiz! shape으로만 결과 판단하기\n",
    "# (100,20000) (20000,100) : (100,100)\n",
    "# (20000,100) (100,200000) : (20000,20000)\n",
    "# (100,20000) (100,20000) : error"
   ]
  },
  {
   "cell_type": "code",
   "execution_count": 104,
   "metadata": {},
   "outputs": [
    {
     "name": "stdout",
     "output_type": "stream",
     "text": [
      "[[1 4]\n",
      " [2 5]\n",
      " [3 6]]\n"
     ]
    }
   ],
   "source": [
    "arr = np.array([[1,2,3],[4,5,6]])\n",
    "# print(arr @ arr) # (2,3) (2,3)\n",
    "\n",
    "# .T\n",
    "print(arr.T)\n",
    "print(arr)\n"
   ]
  },
  {
   "cell_type": "markdown",
   "metadata": {},
   "source": [
    "# 연산 함수 및 집계 함수"
   ]
  },
  {
   "cell_type": "code",
   "execution_count": 109,
   "metadata": {},
   "outputs": [
    {
     "name": "stdout",
     "output_type": "stream",
     "text": [
      "[[ 2.  6.]\n",
      " [ 8. 11.]]\n",
      "[[ 1.  6.]\n",
      " [ 8. 10.]]\n",
      "[[ 1.23  5.68]\n",
      " [ 7.89 10.12]]\n"
     ]
    }
   ],
   "source": [
    "arr_negative = np.array([[-1,-2],[-100,-200]])\n",
    "arr_float = np.array([[1.234,5.678],[7.89,10.123]])\n",
    "arr = np.arange(1,7).reshape(2,3)\n",
    "print(np.ceil(arr_float))\n",
    "print(np.round(arr_float))\n",
    "print(np.round(arr_float,2))\n"
   ]
  },
  {
   "cell_type": "code",
   "execution_count": 111,
   "metadata": {},
   "outputs": [
    {
     "name": "stdout",
     "output_type": "stream",
     "text": [
      "[[ 1. -6.]\n",
      " [-8. 10.]]\n",
      "[[ 1. -5.]\n",
      " [-7. 10.]]\n"
     ]
    }
   ],
   "source": [
    "arr_float = np.array([[1.234,-5.678],[-7.89,10.123]])\n",
    "\n",
    "#내림\n",
    "print(np.floor(arr_float))\n",
    "\n",
    "#버림(절삭)\n",
    "print(np.trunc(arr_float))"
   ]
  },
  {
   "cell_type": "code",
   "execution_count": 115,
   "metadata": {},
   "outputs": [
    {
     "name": "stdout",
     "output_type": "stream",
     "text": [
      "[[1 2 3]\n",
      " [4 5 6]]\n",
      "6\n",
      "1\n",
      "[4 5 6]\n",
      "[1 4]\n"
     ]
    }
   ],
   "source": [
    "print(arr)\n",
    "print(np.max(arr))\n",
    "print(np.min(arr))\n",
    "print(np.max(arr,axis=0))\n",
    "print(np.min(arr,axis=1))"
   ]
  },
  {
   "cell_type": "code",
   "execution_count": 117,
   "metadata": {},
   "outputs": [
    {
     "name": "stdout",
     "output_type": "stream",
     "text": [
      "21\n",
      "21\n",
      "[5 7 9]\n",
      "[ 6 15]\n"
     ]
    }
   ],
   "source": [
    "#합계\n",
    "print(arr.sum())\n",
    "print(np.sum(arr))\n",
    "\n",
    "print(arr.sum(axis=0))\n",
    "print(arr.sum(axis=1))"
   ]
  },
  {
   "cell_type": "code",
   "execution_count": 119,
   "metadata": {},
   "outputs": [
    {
     "name": "stdout",
     "output_type": "stream",
     "text": [
      "3.5\n",
      "3.5\n",
      "[2.5 3.5 4.5]\n",
      "[2. 5.]\n",
      "3.5\n"
     ]
    }
   ],
   "source": [
    "#평균\n",
    "print(arr.mean())\n",
    "print(np.mean(arr))\n",
    "\n",
    "print(arr.mean(axis=0))\n",
    "print(arr.mean(axis=1))\n",
    "print(np.mean(arr))"
   ]
  },
  {
   "cell_type": "code",
   "execution_count": null,
   "metadata": {},
   "outputs": [],
   "source": []
  }
 ],
 "metadata": {
  "kernelspec": {
   "display_name": "pystudy_env",
   "language": "python",
   "name": "python3"
  },
  "language_info": {
   "codemirror_mode": {
    "name": "ipython",
    "version": 3
   },
   "file_extension": ".py",
   "mimetype": "text/x-python",
   "name": "python",
   "nbconvert_exporter": "python",
   "pygments_lexer": "ipython3",
   "version": "3.12.9"
  }
 },
 "nbformat": 4,
 "nbformat_minor": 2
}
