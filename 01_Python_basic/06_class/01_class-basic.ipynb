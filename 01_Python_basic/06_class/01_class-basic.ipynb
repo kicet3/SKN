{
 "cells": [
  {
   "cell_type": "markdown",
   "metadata": {},
   "source": [
    "# 클래스"
   ]
  },
  {
   "cell_type": "code",
   "execution_count": 4,
   "metadata": {},
   "outputs": [
    {
     "name": "stdout",
     "output_type": "stream",
     "text": [
      "오늘도 열심히 공부하는 11기 학생!\n"
     ]
    }
   ],
   "source": [
    "class Student:\n",
    "    # 1. 클래스 속성\n",
    "    dream = '취업'\n",
    "    # 2. 생성자\n",
    "    # 3. 메서드\n",
    "    def study(self):\n",
    "        print('오늘도 열심히 공부하는 11기 학생!')"
   ]
  },
  {
   "cell_type": "code",
   "execution_count": 12,
   "metadata": {},
   "outputs": [
    {
     "name": "stdout",
     "output_type": "stream",
     "text": [
      "<__main__.Student object at 0x103e69130>\n",
      "<__main__.Student object at 0x103e6a930>\n"
     ]
    }
   ],
   "source": [
    "student = Student()\n",
    "student_two = Student()\n",
    "\n",
    "print(student)\n",
    "print(student_two)"
   ]
  },
  {
   "cell_type": "code",
   "execution_count": 17,
   "metadata": {},
   "outputs": [],
   "source": [
    "class Student:\n",
    "    # 1. 클래스 속성\n",
    "    dream = '취업'\n",
    "    # 2. 생성자\n",
    "    def __init__(self, name, phone):\n",
    "        self.name = name\n",
    "        self.phone = phone\n",
    "    # 3. 메서드\n",
    "    def study(self):\n",
    "        print(f'오늘도 열심히 공부하는 11기 학생!')"
   ]
  },
  {
   "cell_type": "code",
   "execution_count": 20,
   "metadata": {},
   "outputs": [
    {
     "name": "stdout",
     "output_type": "stream",
     "text": [
      "취업\n",
      "이현대 01012345678\n",
      "오늘도 열심히 공부하는 11기 학생!\n"
     ]
    }
   ],
   "source": [
    "student = Student('이현대', '01012345678')\n",
    "\n",
    "print(student.dream)\n",
    "print(student.name,student.phone)\n",
    "student.study()\n"
   ]
  },
  {
   "cell_type": "code",
   "execution_count": 36,
   "metadata": {},
   "outputs": [
    {
     "name": "stdout",
     "output_type": "stream",
     "text": [
      "이현대은 28살이고 취미는 ['넷플릭스']입니다.\n",
      "성호진은 32살이고 취미는 ['유튜브 시청']입니다.\n",
      "이채은은 27살이고 취미는 ['음악감상']입니다.\n",
      "김성지은 26살이고 취미는 ['책읽기']입니다.\n"
     ]
    }
   ],
   "source": [
    "name1 = '이현대'\n",
    "age1 = 28\n",
    "hobby1 = ['넷플릭스']\n",
    "print(f'{name1}은 {age1}살이고 취미는 {hobby1}입니다.')\n",
    "name2 = '성호진'\n",
    "age2 = 32\n",
    "hobby2 = ['유튜브 시청']\n",
    "print(f'{name2}은 {age2}살이고 취미는 {hobby2}입니다.')\n",
    "name3 = '이채은'\n",
    "age3 = 27\n",
    "hobby3 = ['음악감상']\n",
    "print(f'{name3}은 {age3}살이고 취미는 {hobby3}입니다.')\n",
    "name4 = '김성지'\n",
    "age4 = 26\n",
    "hobby4 = ['책읽기']\n",
    "print(f'{name4}은 {age4}살이고 취미는 {hobby4}입니다.')\n"
   ]
  },
  {
   "cell_type": "code",
   "execution_count": 38,
   "metadata": {},
   "outputs": [
    {
     "name": "stdout",
     "output_type": "stream",
     "text": [
      "이름: 이현대, 나이: 28, 취미: ['넷플릭스 시청']\n",
      "이름: 성호진, 나이: 32, 취미: ['유튜브 시청']\n",
      "이름: 이채은, 나이: 27, 취미: ['음악감상']\n",
      "이름: 김성지, 나이: 26, 취미: ['책읽기']\n"
     ]
    }
   ],
   "source": [
    "class Friend():\n",
    "    def __init__(self, name, age, hobby):\n",
    "        self.name = name\n",
    "        self.age = age\n",
    "        self.hobby = hobby\n",
    "    def introduce(self):\n",
    "        print(f'이름: {self.name}, 나이: {self.age}, 취미: {self.hobby}')\n",
    "\n",
    "friend1 = Friend('이현대', 28, ['넷플릭스 시청'])\n",
    "friend1.introduce()\n",
    "friend2 = Friend('성호진', 32, ['유튜브 시청'])\n",
    "friend2.introduce()\n",
    "friend3 = Friend('이채은', 27, ['음악감상'])\n",
    "friend3.introduce()\n",
    "friend4 = Friend('김성지', 26, ['책읽기'])\n",
    "friend4.introduce()"
   ]
  },
  {
   "cell_type": "code",
   "execution_count": 35,
   "metadata": {},
   "outputs": [
    {
     "name": "stdout",
     "output_type": "stream",
     "text": [
      "이현대은 28살이고 취미는 ['영화 감상']입니다.\n"
     ]
    }
   ],
   "source": [
    "class Student:\n",
    "    # 1. 클래스 속성\n",
    "    dream = '취업'\n",
    "    def __init__(self, name, phone):\n",
    "        self.name = name\n",
    "        self.phone = phone\n",
    "\n",
    "    # 3. 메서드\n",
    "    def study(self):\n",
    "        print(f'오늘도 열심히 공부하는 11기 학생!')\n",
    "    def introduce(self):\n",
    "        print(f'저는 {self.name}이구요 전화번호는  {self.phone}입니다. 제가 이루고 싶은 목표는! {self.dream}입니다.')"
   ]
  },
  {
   "cell_type": "code",
   "execution_count": 34,
   "metadata": {},
   "outputs": [
    {
     "name": "stdout",
     "output_type": "stream",
     "text": [
      "저는 이현대이구요 전화번호는  01012345678입니다. 제가 이루고 싶은 목표는! 취업입니다.\n",
      "저는 test이구요 전화번호는  01012345678입니다. 제가 이루고 싶은 목표는! 취업입니다.\n",
      "저는 이현대이구요 전화번호는  01012345678입니다. 제가 이루고 싶은 목표는! 취업입니다.\n"
     ]
    }
   ],
   "source": [
    "student1 = Student('이현대', '01012345678')\n",
    "student2 = Student('이현대', '01012345678')\n",
    "\n",
    "student1.introduce()\n",
    "student1.name = 'test'\n",
    "student1.phone = '01012345678'\n",
    "student1.introduce()\n",
    "\n",
    "student2.name = '이현대'\n",
    "student2.phone = '01012345678'\n",
    "student2.introduce()"
   ]
  }
 ],
 "metadata": {
  "kernelspec": {
   "display_name": "pystudy_env",
   "language": "python",
   "name": "python3"
  },
  "language_info": {
   "codemirror_mode": {
    "name": "ipython",
    "version": 3
   },
   "file_extension": ".py",
   "mimetype": "text/x-python",
   "name": "python",
   "nbconvert_exporter": "python",
   "pygments_lexer": "ipython3",
   "version": "3.12.9"
  }
 },
 "nbformat": 4,
 "nbformat_minor": 2
}
