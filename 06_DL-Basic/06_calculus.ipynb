{
 "cells": [
  {
   "cell_type": "markdown",
   "metadata": {},
   "source": [
    "1차원 함수의 수치 미분"
   ]
  },
  {
   "cell_type": "code",
   "execution_count": 65,
   "metadata": {},
   "outputs": [],
   "source": [
    "def f(x):\n",
    "    return x**2\n",
    "\n",
    "def analytical_d(x):\n",
    "    return 2*x\n",
    "\n",
    "def num_d_forward(f,x,h=1e-5):\n",
    "    return (f(x+h)-f(x))/h\n",
    "\n",
    "def num_d_backward(f,x,h=1e-5):\n",
    "    return (f(x)-f(x-h))/h\n",
    "\n",
    "def num_d_central(f,x,h=1e-5):\n",
    "    return (f(x+h) -f(x-h))/(2*h)"
   ]
  },
  {
   "cell_type": "code",
   "execution_count": 66,
   "metadata": {},
   "outputs": [
    {
     "name": "stdout",
     "output_type": "stream",
     "text": [
      "6.000009999951316\n",
      "5.999990000127297\n",
      "6.000000000039306\n",
      "6\n"
     ]
    }
   ],
   "source": [
    "x = 3\n",
    "print(num_d_forward(f,x))\n",
    "print(num_d_backward(f,x))\n",
    "print(num_d_central(f,x))\n",
    "print(analytical_d(x))\n",
    "\n",
    "\n"
   ]
  },
  {
   "cell_type": "markdown",
   "metadata": {},
   "source": [
    "### 다변수 함수의 수치 미분"
   ]
  },
  {
   "cell_type": "code",
   "execution_count": 67,
   "metadata": {},
   "outputs": [
    {
     "name": "stdout",
     "output_type": "stream",
     "text": [
      "6.000000000039306\n",
      "4.000000000026205\n"
     ]
    }
   ],
   "source": [
    "# 편미분\n",
    "import numpy as np\n",
    "def f(x,y):\n",
    "    return x**2 + y**2\n",
    "\n",
    "def partial_d(f,x,y,var='x',h=1e-5):\n",
    "    if var == 'x':\n",
    "        return (f(x+h,y)-f(x-h,y))/(2*h)\n",
    "    elif var == 'y':\n",
    "        return (f(x,y+h)-f(x,y-h))/(2*h)\n",
    "    \n",
    "print(partial_d(f,3.0,2.0,'x'))\n",
    "print(partial_d(f,3.0,2.0,'y'))"
   ]
  },
  {
   "cell_type": "code",
   "execution_count": 68,
   "metadata": {},
   "outputs": [
    {
     "name": "stdout",
     "output_type": "stream",
     "text": [
      "[6. 8.]\n"
     ]
    }
   ],
   "source": [
    "def f_multi(x):\n",
    "    return np.sum(x**2)\n",
    "\n",
    "def num_d_gradient(f,x,h=1e-5):\n",
    "    grad = np.zeros_like(x)\n",
    "    for idx in range(len(x)):\n",
    "        tmp = x[idx]\n",
    "        x[idx] = tmp + h\n",
    "        f_plus = f(x)\n",
    "        \n",
    "        x[idx] = tmp - h\n",
    "        f_minus = f(x)\n",
    "        grad[idx] = (f_plus - f_minus) / (2*h)\n",
    "        x[idx] = tmp\n",
    "    return grad\n",
    "\n",
    "print(num_d_gradient(f_multi,np.array([3.0,4.0])))\n",
    "\n"
   ]
  },
  {
   "cell_type": "markdown",
   "metadata": {},
   "source": [
    "# 간단한 신경망의 기울기"
   ]
  },
  {
   "cell_type": "code",
   "execution_count": 69,
   "metadata": {},
   "outputs": [
    {
     "name": "stdout",
     "output_type": "stream",
     "text": [
      "0번째 파라미터 수치 미분 기울기:\n",
      "[[ 0.00324082  0.00172796  0.01647664]\n",
      " [-0.00129633 -0.00069118 -0.00659066]]\n",
      "\n",
      "1번째 파라미터 수치 미분 기울기:\n",
      "[0.00648164 0.00345592 0.03295329]\n",
      "\n",
      "2번째 파라미터 수치 미분 기울기:\n",
      "[[0.07878037]\n",
      " [0.04133083]\n",
      " [0.06319562]]\n",
      "\n",
      "3번째 파라미터 수치 미분 기울기:\n",
      "[0.09852197]\n",
      "\n"
     ]
    }
   ],
   "source": [
    "def sigmoid(x):\n",
    "    return 1/(1+np.exp(-x))\n",
    "\n",
    "def forward_pass(x,params):\n",
    "    w1,b1,w2,b2 = params\n",
    "    z1 =np.dot(x,w1) + b1\n",
    "    r1 = sigmoid(z1)\n",
    "    z2 = np.dot(r1,w2) + b2\n",
    "    r2 =   sigmoid(z2)\n",
    "    return r2\n",
    "  \n",
    "def loss(r2,y):\n",
    "    return 0.5 * np.sum((r2-y)*2)\n",
    "\n",
    "def get_loss(params,x,y):\n",
    "    r2 = forward_pass(x,params)\n",
    "    return loss(r2,y)\n",
    "\n",
    "def num_d_gradient_params(f,params,x,y,h=1e-5):\n",
    "    grads = []\n",
    "    for param in params:\n",
    "        grad = np.zeros_like(param)\n",
    "        iter = np.nditer(param,flags=['multi_index'],op_flags=['readwrite'])\n",
    "\n",
    "        while not iter.finished:\n",
    "            idx = iter.multi_index\n",
    "            origin_val = param[idx]\n",
    "            param[idx] = origin_val + h\n",
    "            f_plus = f(params,x,y)\n",
    "            param[idx] = origin_val - h\n",
    "            f_minus = f(params,x,y)\n",
    "            grad[idx] = (f_plus - f_minus) / (2*h)\n",
    "            param[idx] = origin_val\n",
    "            iter.iternext()\n",
    "        grads.append(grad)\n",
    "    return grads\n",
    "np.random.seed(0)\n",
    "input_size = 2\n",
    "hidden_size = 3\n",
    "output_size = 1\n",
    "\n",
    "w1 = np.random.randn(input_size,hidden_size)\n",
    "b1 = np.random.randn(hidden_size)\n",
    "w2 = np.random.randn(hidden_size,output_size)\n",
    "b2 = np.random.randn(output_size)\n",
    "\n",
    "params = [w1,b1,w2,b2]\n",
    "\n",
    "x = np.array([0.5,-0.2])\n",
    "y = np.array([1.0])\n",
    "\n",
    "\n",
    "num_grads = num_d_gradient_params(get_loss,params,x,y)\n",
    "\n",
    "\n",
    "\n",
    "            \n",
    "for i,grad in enumerate(num_grads):\n",
    "    print(f'{i}번째 파라미터 수치 미분 기울기:\\n{grad}\\n')\n",
    "            \n",
    "        \n",
    "    "
   ]
  },
  {
   "cell_type": "markdown",
   "metadata": {},
   "source": [
    "# 값에 따른 영향"
   ]
  },
  {
   "cell_type": "code",
   "execution_count": 70,
   "metadata": {},
   "outputs": [
    {
     "data": {
      "text/plain": [
       "[np.float64(4.964422259945422e-07),\n",
       " np.float64(1.7934854383838683e-06),\n",
       " np.float64(5.6576068008240554e-06),\n",
       " np.float64(1.2668532507476016e-06),\n",
       " np.float64(1.6826849069673244e-07),\n",
       " np.float64(1.1526886520840662e-06),\n",
       " np.float64(1.2464285026325683e-06),\n",
       " np.float64(7.551179139753117e-07),\n",
       " np.float64(4.2921768805825877e-07),\n",
       " np.float64(9.130039391180844e-08),\n",
       " np.float64(1.6006203562568544e-07),\n",
       " np.float64(1.0115348469952323e-07),\n",
       " np.float64(5.540784275837041e-08),\n",
       " np.float64(3.6160781036187473e-09),\n",
       " np.float64(3.20947632914681e-08),\n",
       " np.float64(1.6841083194663042e-08),\n",
       " np.float64(1.2369500979048098e-09),\n",
       " np.float64(7.966750814603074e-09),\n",
       " np.float64(2.268608412236972e-09),\n",
       " np.float64(4.2692764878893286e-09),\n",
       " np.float64(6.870948254800169e-10),\n",
       " np.float64(1.391859072441548e-09),\n",
       " np.float64(3.561488881587138e-10),\n",
       " np.float64(4.889129101570688e-10),\n",
       " np.float64(4.718767598888007e-10),\n",
       " np.float64(2.312328106768291e-10),\n",
       " np.float64(8.79438744050276e-11),\n",
       " np.float64(1.956657058599376e-12),\n",
       " np.float64(8.806821938378562e-11),\n",
       " np.float64(5.7474025538795104e-11),\n",
       " np.float64(2.524913611523516e-11),\n",
       " np.float64(8.045120125643734e-12),\n",
       " np.float64(1.1517009568251524e-11),\n",
       " np.float64(3.1183944315671397e-12),\n",
       " np.float64(3.233857626128156e-12),\n",
       " np.float64(4.878764059412788e-12),\n",
       " np.float64(3.147704319417244e-12),\n",
       " np.float64(8.126832540256146e-13),\n",
       " np.float64(4.04121180963557e-13),\n",
       " np.float64(1.7674750552032492e-13),\n",
       " np.float64(5.382361223382759e-13),\n",
       " np.float64(2.8954616482224083e-13),\n",
       " np.float64(1.5631940186722204e-13),\n",
       " np.float64(1.616484723854228e-13),\n",
       " np.float64(5.595524044110789e-14),\n",
       " np.float64(1.3322676295501878e-14),\n",
       " np.float64(1.7763568394002505e-15),\n",
       " np.float64(9.769962616701378e-15),\n",
       " np.float64(2.042810365310288e-14),\n",
       " np.float64(5.329070518200751e-15)]"
      ]
     },
     "execution_count": 70,
     "metadata": {},
     "output_type": "execute_result"
    }
   ],
   "source": [
    "def f(x):\n",
    "    return x**2\n",
    "\n",
    "def analytical_d(x):\n",
    "    return 2*x\n",
    "\n",
    "def num_d_central(f,x,h=1e-5):\n",
    "    return (f(x+h)-f(x-h))/(2*h)\n",
    "\n",
    "\n",
    "x = 3.0\n",
    "h_values = np.logspace(-10,-1,50)\n",
    "errors =[]\n",
    "\n",
    "true_d = analytical_d(x)\n",
    "\n",
    "for h in h_values:\n",
    "    num_d = num_d_central(f,x,h)\n",
    "    error = np.abs(true_d - num_d)\n",
    "    errors.append(error)\n",
    "errors\n",
    "\n"
   ]
  },
  {
   "cell_type": "code",
   "execution_count": 71,
   "metadata": {},
   "outputs": [
    {
     "data": {
      "image/png": "[encoded data removed]",
      "text/plain": [
       "<Figure size 1000x500 with 1 Axes>"
      ]
     },
     "metadata": {},
     "output_type": "display_data"
    }
   ],
   "source": [
    "import matplotlib.pyplot as plt\n",
    "plt.figure(figsize=(10,5))\n",
    "plt.loglog(h_values,errors)\n",
    "plt.xlabel('h')\n",
    "plt.ylabel('error')\n",
    "plt.title('Error vs h')\n",
    "plt.show()\n"
   ]
  },
  {
   "cell_type": "markdown",
   "metadata": {},
   "source": [
    "# 자동 미분"
   ]
  },
  {
   "cell_type": "code",
   "execution_count": 72,
   "metadata": {},
   "outputs": [
    {
     "name": "stdout",
     "output_type": "stream",
     "text": [
      "tensor(6., grad_fn=<MulBackward0>)\n",
      "tensor(6.)\n"
     ]
    }
   ],
   "source": [
    "import torch\n",
    "\n",
    "x = torch.tensor(3.0,requires_grad=True)\n",
    "y =f(x)\n",
    "y.backward()\n",
    "\n",
    "print(analytical_d(x))\n",
    "print(x.grad)\n",
    "\n",
    "        "
   ]
  },
  {
   "cell_type": "code",
   "execution_count": null,
   "metadata": {},
   "outputs": [],
   "source": []
  }
 ],
 "metadata": {
  "kernelspec": {
   "display_name": "pystudy_env",
   "language": "python",
   "name": "python3"
  },
  "language_info": {
   "codemirror_mode": {
    "name": "ipython",
    "version": 3
   },
   "file_extension": ".py",
   "mimetype": "text/x-python",
   "name": "python",
   "nbconvert_exporter": "python",
   "pygments_lexer": "ipython3",
   "version": "3.12.9"
  }
 },
 "nbformat": 4,
 "nbformat_minor": 2
}
