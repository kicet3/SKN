{
 "cells": [
  {
   "cell_type": "markdown",
   "id": "2a47fb82",
   "metadata": {},
   "source": [
    "# 변수 (Variable)"
   ]
  },
  {
   "cell_type": "code",
   "execution_count": 3,
   "id": "28b5a3ad",
   "metadata": {},
   "outputs": [],
   "source": [
    "date = 250210\n",
    "name = '이현대'"
   ]
  },
  {
   "cell_type": "code",
   "execution_count": 5,
   "id": "f1635dfa",
   "metadata": {},
   "outputs": [
    {
     "name": "stdout",
     "output_type": "stream",
     "text": [
      "250210\n",
      "이현대\n"
     ]
    }
   ],
   "source": [
    "print(date)\n",
    "print(name)"
   ]
  },
  {
   "cell_type": "code",
   "execution_count": 8,
   "id": "103b6f66",
   "metadata": {},
   "outputs": [
    {
     "name": "stdout",
     "output_type": "stream",
     "text": [
      "110\n"
     ]
    }
   ],
   "source": [
    "m = 100\n",
    "n = m+10\n",
    "print(n) "
   ]
  },
  {
   "cell_type": "markdown",
   "id": "5ae9422c",
   "metadata": {},
   "source": [
    "---\n",
    "### **문제 1**\n",
    "\n",
    "아래 설명에 맞게 변수를 선언하고 값을 대입하세요.\n",
    "\n",
    "1. `name`이라는 이름의 변수를 선언하고, **당신의 이름**을 문자열로 저장하세요.\n",
    "2. `age`라는 이름의 변수를 선언하고, **당신의 나이**를 숫자로 저장하세요.\n"
   ]
  },
  {
   "cell_type": "code",
   "execution_count": 12,
   "id": "d6a5c918",
   "metadata": {},
   "outputs": [
    {
     "name": "stdout",
     "output_type": "stream",
     "text": [
      "이름 :  이현대 \n",
      "나이 :  28\n"
     ]
    }
   ],
   "source": [
    "name = \"이현대\"\n",
    "age = 28\n",
    "print('이름 : ',name,'\\n나이 : ', age)"
   ]
  },
  {
   "cell_type": "markdown",
   "id": "297f5c8b",
   "metadata": {},
   "source": [
    "---\n",
    "### **문제 2**\n",
    "\n",
    "다음 조건에 맞게 변수를 작성해보세요.\n",
    "\n",
    "1. `height`라는 변수에 **키**를 숫자형으로 저장하세요.\n",
    "2. `dream`이라는 변수에 **당신의 목표**을 문자열로 저장하세요."
   ]
  },
  {
   "cell_type": "code",
   "execution_count": null,
   "id": "684e973f",
   "metadata": {},
   "outputs": [],
   "source": [
    "height = 175\n",
    "dream = '데이터엔지니어'\n",
    "print('키 : ',height)\n",
    "print('꿈 : ',dream)"
   ]
  },
  {
   "cell_type": "markdown",
   "id": "d742b5af",
   "metadata": {},
   "source": [
    "---\n",
    "### **문제 3**\n",
    "\n",
    "변수에 담긴 값을 다른 변수에 대입하는 연습을 해봅시다.\n",
    "\n",
    "1. `city`라는 변수에 **당신이 살고 있는 도시 이름**을 문자열로 저장하세요.\n",
    "2. `my_city`라는 변수에 `city` 변수의 값을 대입하세요.\n",
    "3. 두 변수를 각각 `print()`로 출력해보세요."
   ]
  },
  {
   "cell_type": "code",
   "execution_count": 13,
   "id": "7d1e13b4",
   "metadata": {},
   "outputs": [
    {
     "name": "stdout",
     "output_type": "stream",
     "text": [
      "서울\n",
      "서울\n"
     ]
    }
   ],
   "source": [
    "city = '서울'\n",
    "my_city = city\n",
    "print(city)\n",
    "print(my_city)"
   ]
  },
  {
   "cell_type": "markdown",
   "id": "8fe028b2",
   "metadata": {},
   "source": [
    "---\n",
    "\n",
    "### **문제 4**\n",
    "\n",
    "다음과 같은 규칙에 맞는 변수를 작성하세요.\n",
    "\n",
    "---\n",
    "\n",
    "1. **사과의 개수**를 나타내는 변수를 `apple_count`로 선언하고 숫자 `10`을 저장하세요.\n",
    "2. **오렌지의 개수**를 나타내는 변수를 `orange_count`로 선언하고 숫자 `20`을 저장하세요.\n",
    "3. 두 변수를 출력해보세요.\n"
   ]
  },
  {
   "cell_type": "code",
   "execution_count": 14,
   "id": "f47bcdb1",
   "metadata": {},
   "outputs": [
    {
     "name": "stdout",
     "output_type": "stream",
     "text": [
      "10\n",
      "20\n"
     ]
    }
   ],
   "source": [
    "apple_count=10\n",
    "orange_count=20\n",
    "print(apple_count)\n",
    "print(orange_count)"
   ]
  },
  {
   "cell_type": "markdown",
   "id": "4d0f352f",
   "metadata": {},
   "source": [
    "---\n",
    "### **문제 5**\n",
    "\n",
    "다음과 같은 규칙을 지켜 변수를 작성하세요.\n",
    "\n",
    "1. 변수 이름은 **스네이크 케이스**를 따릅니다.\n",
    "2. `first_name`에 **당신의 이름의 첫 글자**를 문자열로 저장하세요.\n",
    "3. `last_name`에 **당신의 성**을 문자열로 저장하세요.\n",
    "4. `full_name` 변수에 `first_name`과 `last_name`을 이어붙여서 저장하세요.\n",
    "5. `print()`를 사용해 `full_name`을 출력해보세요."
   ]
  },
  {
   "cell_type": "code",
   "execution_count": 15,
   "id": "6d8b110a",
   "metadata": {},
   "outputs": [
    {
     "name": "stdout",
     "output_type": "stream",
     "text": [
      "현이\n"
     ]
    }
   ],
   "source": [
    "first_name ='현'\n",
    "last_name = '이'\n",
    "full_name = first_name + last_name\n",
    "print(full_name)"
   ]
  },
  {
   "cell_type": "code",
   "execution_count": null,
   "id": "4cdd1a93",
   "metadata": {},
   "outputs": [],
   "source": []
  }
 ],
 "metadata": {
  "kernelspec": {
   "display_name": "pystudy_env",
   "language": "python",
   "name": "python3"
  },
  "language_info": {
   "codemirror_mode": {
    "name": "ipython",
    "version": 3
   },
   "file_extension": ".py",
   "mimetype": "text/x-python",
   "name": "python",
   "nbconvert_exporter": "python",
   "pygments_lexer": "ipython3",
   "version": "3.12.9"
  }
 },
 "nbformat": 4,
 "nbformat_minor": 5
}
