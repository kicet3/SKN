{
 "cells": [
  {
   "cell_type": "markdown",
   "metadata": {},
   "source": [
    "# Faker\n",
    " - 가상 데이터 생성"
   ]
  },
  {
   "cell_type": "code",
   "execution_count": 58,
   "metadata": {},
   "outputs": [
    {
     "name": "stdout",
     "output_type": "stream",
     "text": [
      "Daniel Medina\n",
      "Timothy,Guzman\n",
      "courtney83@example.org\n",
      "Bauer-Holland\n",
      "1974-03-18\n"
     ]
    }
   ],
   "source": [
    "from faker import Faker\n",
    "\n",
    "fake = Faker()\n",
    "\n",
    "print(fake.name())\n",
    "print(fake.first_name() + \",\" + fake.last_name())\n",
    "print(fake.email())\n",
    "print(fake.company())\n",
    "print(fake.date_of_birth(minimum_age=19, maximum_age=90))\n"
   ]
  },
  {
   "cell_type": "code",
   "execution_count": null,
   "metadata": {},
   "outputs": [],
   "source": [
    "import pandas as pd\n",
    "import random\n",
    "\n",
    "fake = Faker()\n",
    "\n",
    "def generate_data(n=1000):\n",
    "    data = []\n",
    "    for _ in range(n):\n",
    "        age = fake.random_int(min=19,max=60)\n",
    "        sub_month = fake.random_int(min=1,max=120)\n",
    "        monthly_payment = random.uniform(10,100)\n",
    "        usage_frequency = fake.random_int(min=1,max=30)\n",
    "        stft_score = fake.random_int(min=1,max=5)\n",
    "        churn = fake.boolean(chance_of_getting_true=30)\n",
    "        data.append([age,sub_month,monthly_payment,usage_frequency,stft_score,churn])\n",
    "    df = pd.DataFrame(data,columns=['age','sub_month','monthly_payment','usage_frequency','stft_score','churn'])\n",
    "    return df\n",
    "\n",
    "df = generate_data(1000)\n",
    "print(df.head())\n",
    "\n"
   ]
  },
  {
   "cell_type": "code",
   "execution_count": null,
   "metadata": {},
   "outputs": [],
   "source": []
  }
 ],
 "metadata": {
  "kernelspec": {
   "display_name": "skn_ml",
   "language": "python",
   "name": "python3"
  },
  "language_info": {
   "codemirror_mode": {
    "name": "ipython",
    "version": 3
   },
   "file_extension": ".py",
   "mimetype": "text/x-python",
   "name": "python",
   "nbconvert_exporter": "python",
   "pygments_lexer": "ipython3",
   "version": "3.12.9"
  }
 },
 "nbformat": 4,
 "nbformat_minor": 2
}
