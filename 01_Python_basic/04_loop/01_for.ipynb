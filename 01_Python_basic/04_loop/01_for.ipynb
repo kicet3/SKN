{
 "cells": [
  {
   "cell_type": "markdown",
   "metadata": {},
   "source": [
    "### for"
   ]
  },
  {
   "cell_type": "code",
   "execution_count": 2,
   "metadata": {},
   "outputs": [
    {
     "name": "stdout",
     "output_type": "stream",
     "text": [
      "a\n",
      "=====\n",
      "b\n",
      "=====\n",
      "c\n",
      "=====\n",
      "종료\n"
     ]
    }
   ],
   "source": [
    "lst = ['a','b','c']\n",
    "for ch in lst:\n",
    "    print(ch)\n",
    "    print('=====')\n",
    "print('종료')"
   ]
  },
  {
   "cell_type": "code",
   "execution_count": null,
   "metadata": {},
   "outputs": [],
   "source": [
    "foods = {'자몽','레몬','수박','청포도','레몬','두리안','사과','수박','수박'}\n",
    "for f in foods:\n",
    "    print(f)"
   ]
  },
  {
   "cell_type": "code",
   "execution_count": 3,
   "metadata": {},
   "outputs": [
    {
     "name": "stdout",
     "output_type": "stream",
     "text": [
      "range(0, 10) <class 'range'>\n"
     ]
    }
   ],
   "source": [
    "print(range(10),type(range(10)))"
   ]
  },
  {
   "cell_type": "code",
   "execution_count": 4,
   "metadata": {},
   "outputs": [
    {
     "name": "stdout",
     "output_type": "stream",
     "text": [
      "0\n",
      "1\n",
      "2\n",
      "3\n",
      "4\n",
      "5\n",
      "6\n",
      "7\n",
      "8\n",
      "9\n"
     ]
    }
   ],
   "source": [
    "for i in range(10):\n",
    "    print(i)"
   ]
  },
  {
   "cell_type": "code",
   "execution_count": 5,
   "metadata": {},
   "outputs": [
    {
     "name": "stdout",
     "output_type": "stream",
     "text": [
      "1\n",
      "2\n",
      "3\n",
      "4\n",
      "5\n",
      "6\n",
      "7\n",
      "8\n",
      "9\n",
      "10\n",
      "55\n"
     ]
    }
   ],
   "source": [
    "sum =0\n",
    "for i in range (1,11):\n",
    "    sum = sum +i\n",
    "    print(i)\n",
    "print(sum)"
   ]
  },
  {
   "cell_type": "markdown",
   "metadata": {},
   "source": [
    "## **문제 1: 손님 응대하기**\n",
    "\n",
    "**\"토끼는 카페에서 아르바이트를 시작했다.\"**\n",
    "\n",
    "토끼는 손님들에게 인사를 해야 합니다.\n",
    "\n",
    "1. 손님 리스트 `customers`에 다음과 같은 손님들이 있습니다.\n",
    "    - `'판다', '곰', '여우', '호랑이'`\n",
    "2. `for`문을 사용하여 **각 손님에게 다음과 같은 메시지를 출력하세요**:\n",
    "    - **\"안녕하세요, [손님 이름]님! 무엇을 도와드릴까요?\"**\n",
    "    "
   ]
  },
  {
   "cell_type": "code",
   "execution_count": 6,
   "metadata": {},
   "outputs": [
    {
     "name": "stdout",
     "output_type": "stream",
     "text": [
      "안녕하세요,판다님! 무엇을 도와드릴까요?\n",
      "안녕하세요,곰님! 무엇을 도와드릴까요?\n",
      "안녕하세요,여우님! 무엇을 도와드릴까요?\n",
      "안녕하세요,호랑이님! 무엇을 도와드릴까요?\n"
     ]
    }
   ],
   "source": [
    "customers = ['판다','곰','여우','호랑이']\n",
    "for customer in customers:\n",
    "    print(f\"안녕하세요,{customer}님! 무엇을 도와드릴까요?\")"
   ]
  },
  {
   "cell_type": "markdown",
   "metadata": {},
   "source": [
    "## **문제 2: 메뉴 준비하기**\n",
    "\n",
    "**\"토끼는 주문받은 음료를 준비해야 한다.\"**\n",
    "\n",
    "토끼는 손님들이 주문한 음료를 준비합니다.\n",
    "\n",
    "1. 주문 리스트 `orders`에 다음 음료가 있습니다.\n",
    "    - `'아메리카노', '카페라떼', '핫초코'`\n",
    "2. `for`문을 사용하여 **각 음료를 준비하는 메시지를 출력하세요**:\n",
    "    - **\"[음료 이름]를 준비 중입니다...\"**"
   ]
  },
  {
   "cell_type": "code",
   "execution_count": 8,
   "metadata": {},
   "outputs": [
    {
     "name": "stdout",
     "output_type": "stream",
     "text": [
      "아메리카노를 준비 중입니다...\n",
      "카페라떼를 준비 중입니다...\n",
      "핫초코를 준비 중입니다...\n"
     ]
    }
   ],
   "source": [
    "orders = ['아메리카노','카페라떼','핫초코']\n",
    "for order in orders:\n",
    "    print(f\"{order}를 준비 중입니다...\")"
   ]
  },
  {
   "cell_type": "markdown",
   "metadata": {},
   "source": [
    "## **문제 3: 청소하기**\n",
    "\n",
    "**\"일이 끝난 후, 토끼는 테이블을 청소해야 한다.\"**\n",
    "\n",
    "토끼는 카페의 테이블을 하나씩 청소합니다.\n",
    "\n",
    "1. 테이블 리스트 `tables`에 숫자 `1`부터 `5`까지의 테이블 번호가 있습니다.\n",
    "2. `for`문을 사용하여 **각 테이블을 청소하는 메시지를 출력하세요.**\n",
    "    - **\"[n번 테이블] 청소 완료!\"**"
   ]
  },
  {
   "cell_type": "code",
   "execution_count": 9,
   "metadata": {},
   "outputs": [
    {
     "name": "stdout",
     "output_type": "stream",
     "text": [
      "1번 테이블 청소 완료!\n",
      "2번 테이블 청소 완료!\n",
      "3번 테이블 청소 완료!\n",
      "4번 테이블 청소 완료!\n",
      "5번 테이블 청소 완료!\n"
     ]
    }
   ],
   "source": [
    "tables = range(1,6)\n",
    "for i in tables:\n",
    "    print(f\"{i}번 테이블 청소 완료!\")"
   ]
  },
  {
   "cell_type": "markdown",
   "metadata": {},
   "source": [
    "## **문제 4: 시간 기록하기**\n",
    "\n",
    "**\"토끼는 출근한 후 시간마다 일을 기록해야 한다.\"**\n",
    "\n",
    "토끼는 9시부터 12시까지 1시간마다 기록을 남깁니다.\n",
    "\n",
    "1. `for-range`를 사용하여 9부터 12까지의 시간을 반복하세요.\n",
    "2. 각 시간마다 **\"현재 시간: [시간]시, 근무 기록합니다.\"**를 출력하세요."
   ]
  },
  {
   "cell_type": "code",
   "execution_count": 3,
   "metadata": {},
   "outputs": [
    {
     "name": "stdout",
     "output_type": "stream",
     "text": [
      "현재 시간 : 9시, 근무 기록합니다.\n",
      "현재 시간 : 10시, 근무 기록합니다.\n",
      "현재 시간 : 11시, 근무 기록합니다.\n",
      "현재 시간 : 12시, 근무 기록합니다.\n"
     ]
    }
   ],
   "source": [
    "for i in range(9,13):\n",
    "    print(f'현재 시간 : {i}시, 근무 기록합니다.')"
   ]
  },
  {
   "cell_type": "markdown",
   "metadata": {},
   "source": [
    "## **문제 5: 손님 수 세기**\n",
    "\n",
    "**\"손님이 계속 들어오고 있습니다.\"**\n",
    "\n",
    "토끼는 10명의 손님이 들어올 때마다 번호를 세야 합니다.\n",
    "\n",
    "1. `for-range`를 사용하여 숫자 `1`부터 `10`까지 출력하세요.\n",
    "2. 각 손님마다 **\"손님 [번호]번째 입장!\"**을 출력하세요."
   ]
  },
  {
   "cell_type": "code",
   "execution_count": 4,
   "metadata": {},
   "outputs": [
    {
     "name": "stdout",
     "output_type": "stream",
     "text": [
      "손님 1번째 입장!\n",
      "손님 2번째 입장!\n",
      "손님 3번째 입장!\n",
      "손님 4번째 입장!\n",
      "손님 5번째 입장!\n",
      "손님 6번째 입장!\n",
      "손님 7번째 입장!\n",
      "손님 8번째 입장!\n",
      "손님 9번째 입장!\n",
      "손님 10번째 입장!\n"
     ]
    }
   ],
   "source": [
    "for i in range(1,11):\n",
    "    print(f'손님 {i}번째 입장!')"
   ]
  },
  {
   "cell_type": "markdown",
   "metadata": {},
   "source": [
    "## **문제 6: 커피 만들기**\n",
    "\n",
    "**\"주문받은 커피를 몇 잔 만들까?\"**\n",
    "\n",
    "토끼는 주문받은 커피의 수량을 만들려고 합니다.\n",
    "\n",
    "1. `for-range`를 사용해 숫자 `1`부터 `5`까지의 커피 번호를 반복하세요.\n",
    "2. 각 커피마다 **\"[커피 번호]번째 커피를 만들고 있습니다.\"**를 출력하세요."
   ]
  },
  {
   "cell_type": "code",
   "execution_count": 2,
   "metadata": {},
   "outputs": [
    {
     "name": "stdout",
     "output_type": "stream",
     "text": [
      "1번째 커피를 만들고 있습니다.\n",
      "2번째 커피를 만들고 있습니다.\n",
      "3번째 커피를 만들고 있습니다.\n",
      "4번째 커피를 만들고 있습니다.\n",
      "5번째 커피를 만들고 있습니다.\n"
     ]
    }
   ],
   "source": [
    "for i in range(1,6):\n",
    "    print(f'{i}번째 커피를 만들고 있습니다.')"
   ]
  },
  {
   "cell_type": "code",
   "execution_count": null,
   "metadata": {},
   "outputs": [],
   "source": []
  }
 ],
 "metadata": {
  "kernelspec": {
   "display_name": "pystudy_env",
   "language": "python",
   "name": "python3"
  },
  "language_info": {
   "codemirror_mode": {
    "name": "ipython",
    "version": 3
   },
   "file_extension": ".py",
   "mimetype": "text/x-python",
   "name": "python",
   "nbconvert_exporter": "python",
   "pygments_lexer": "ipython3",
   "version": "3.12.9"
  }
 },
 "nbformat": 4,
 "nbformat_minor": 2
}
