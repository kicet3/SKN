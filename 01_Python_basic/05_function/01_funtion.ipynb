{
 "cells": [
  {
   "cell_type": "markdown",
   "metadata": {},
   "source": [
    "# 함수"
   ]
  },
  {
   "cell_type": "code",
   "execution_count": 2,
   "metadata": {},
   "outputs": [
    {
     "name": "stdout",
     "output_type": "stream",
     "text": [
      "홍길동 : 멍청이\n"
     ]
    }
   ],
   "source": [
    "def greeting(name,greeting='처음 뵙겠습니다.'):\n",
    "    print(f'{name} : {greeting}')\n",
    "\n",
    "greeting('홍길동','멍청이')"
   ]
  },
  {
   "cell_type": "code",
   "execution_count": 4,
   "metadata": {},
   "outputs": [],
   "source": [
    "def print_greeting():\n",
    "    print('좋은 아침입니다! 수요일도 화이팅!!!')"
   ]
  },
  {
   "cell_type": "code",
   "execution_count": 5,
   "metadata": {},
   "outputs": [
    {
     "name": "stdout",
     "output_type": "stream",
     "text": [
      "좋은 아침입니다! 수요일도 화이팅!!!\n"
     ]
    }
   ],
   "source": [
    "print_greeting()"
   ]
  },
  {
   "cell_type": "code",
   "execution_count": 10,
   "metadata": {},
   "outputs": [],
   "source": [
    "# 파라미터 X,  return O\n",
    "def return_greeting():\n",
    "    return '좋은 아침입니다! 수요일도 화이팅!!!'\n",
    "# 파라미터 O, return X\n",
    "def parm_greeting(name):\n",
    "    print(f'{name}님 좋은 아침입니다! 수요일도 화이팅!!!')\n",
    "# 파라미터 O, return O\n",
    "def parm_return_greeting(name):\n",
    "    return f'{name}님 좋은 아침입니다! 수요일도 화이팅!!!'"
   ]
  }
 ],
 "metadata": {
  "kernelspec": {
   "display_name": "pystudy_env",
   "language": "python",
   "name": "python3"
  },
  "language_info": {
   "codemirror_mode": {
    "name": "ipython",
    "version": 3
   },
   "file_extension": ".py",
   "mimetype": "text/x-python",
   "name": "python",
   "nbconvert_exporter": "python",
   "pygments_lexer": "ipython3",
   "version": "3.12.9"
  }
 },
 "nbformat": 4,
 "nbformat_minor": 2
}
