{
 "cells": [
  {
   "cell_type": "code",
   "execution_count": 1,
   "metadata": {},
   "outputs": [
    {
     "name": "stdout",
     "output_type": "stream",
     "text": [
      "[[ 0  1  2  3  4  5  6  7  8  9]\n",
      " [10 11 12 13 14 15 16 17 18 19]\n",
      " [20 21 22 23 24 25 26 27 28 29]\n",
      " [30 31 32 33 34 35 36 37 38 39]\n",
      " [40 41 42 43 44 45 46 47 48 49]]\n",
      "[ 0  1  2  3  4  5  6  7  8  9 10 11 12 13 14 15 16 17 18 19 20 21 22 23\n",
      " 24 25 26 27 28 29 30 31 32 33 34 35 36 37 38 39 40 41 42 43 44 45 46 47\n",
      " 48 49]\n"
     ]
    }
   ],
   "source": [
    "import numpy as np\n",
    "arr = np.arange(50).reshape(5,10)\n",
    "print(arr)\n",
    "print(np.ravel(arr))\n"
   ]
  },
  {
   "cell_type": "code",
   "execution_count": 2,
   "metadata": {},
   "outputs": [
    {
     "name": "stdout",
     "output_type": "stream",
     "text": [
      "[[[1 2]\n",
      "  [2 3]]]\n",
      "(1, 2, 2)\n",
      "[[[1 2]]\n",
      "\n",
      " [[2 3]]]\n",
      "(2, 1, 2)\n"
     ]
    }
   ],
   "source": [
    "arr_2d = np.array([[1,2],[2,3]])\n",
    "print(np.expand_dims(arr_2d,axis=0))\n",
    "print(np.expand_dims(arr_2d,axis=0).shape)\n",
    "print(np.expand_dims(arr_2d,axis=1))\n",
    "print(np.expand_dims(arr_2d,axis=1).shape)"
   ]
  },
  {
   "cell_type": "code",
   "execution_count": null,
   "metadata": {},
   "outputs": [],
   "source": [
    "#np.squeeze() : 차원의 값이 1일 때 제거\n",
    "arr = np.array([[1,2]])\n",
    "print(arr.shape)\n",
    "\n",
    "arr2 = np.squeeze(arr)\n",
    "arr2 = np.squeeze(arr,axis =0)\n",
    "arr2 = np.squeeze(arr,axis =1)\n",
    "print(arr2.shape)\n"
   ]
  }
 ],
 "metadata": {
  "kernelspec": {
   "display_name": "pystudy_env",
   "language": "python",
   "name": "python3"
  },
  "language_info": {
   "codemirror_mode": {
    "name": "ipython",
    "version": 3
   },
   "file_extension": ".py",
   "mimetype": "text/x-python",
   "name": "python",
   "nbconvert_exporter": "python",
   "pygments_lexer": "ipython3",
   "version": "3.12.9"
  }
 },
 "nbformat": 4,
 "nbformat_minor": 2
}
