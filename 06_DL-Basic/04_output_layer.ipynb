{
 "cells": [
  {
   "cell_type": "markdown",
   "metadata": {},
   "source": [
    "# 출력층 설계 (Output layer)\n"
   ]
  },
  {
   "cell_type": "markdown",
   "metadata": {},
   "source": [
    "### 소프트맥스 오버플로우 방지"
   ]
  },
  {
   "cell_type": "code",
   "execution_count": 31,
   "metadata": {},
   "outputs": [
    {
     "name": "stdout",
     "output_type": "stream",
     "text": [
      "[nan nan nan]\n"
     ]
    },
    {
     "name": "stderr",
     "output_type": "stream",
     "text": [
      "/var/folders/9s/h365kc_s4rnb9jvnmgth1cq40000gn/T/ipykernel_8370/3028536602.py:4: RuntimeWarning: overflow encountered in exp\n",
      "  exp_x = np.exp(x)\n",
      "/var/folders/9s/h365kc_s4rnb9jvnmgth1cq40000gn/T/ipykernel_8370/3028536602.py:5: RuntimeWarning: invalid value encountered in divide\n",
      "  return exp_x / np.sum(exp_x)\n"
     ]
    }
   ],
   "source": [
    "import numpy as np\n",
    "\n",
    "def softmax(x):\n",
    "    exp_x = np.exp(x)\n",
    "    return exp_x / np.sum(exp_x)\n",
    "\n",
    "def stable_softmax(x):\n",
    "    exp_x = np.exp(x-np.max(x))\n",
    "    return exp_x / np.sum(exp_x)\n",
    "\n",
    "x = np.array([1000,1001,1002])\n",
    "\n",
    "print(softmax(x))"
   ]
  },
  {
   "cell_type": "code",
   "execution_count": 32,
   "metadata": {},
   "outputs": [
    {
     "name": "stdout",
     "output_type": "stream",
     "text": [
      "tensor([0.6590, 0.2424, 0.0986])\n",
      "tensor([0.8808, 0.7311, 0.5250])\n"
     ]
    }
   ],
   "source": [
    "import torch\n",
    "import torch.nn.functional as F\n",
    "\n",
    "x = torch.tensor([2.0,1.0,0.1])\n",
    "\n",
    "softmax_output = F.softmax(x,dim=0)\n",
    "\n",
    "print(softmax_output)\n",
    "\n",
    "sigmoid_output = torch.sigmoid(x)\n",
    "\n",
    "print(sigmoid_output)"
   ]
  },
  {
   "cell_type": "code",
   "execution_count": 36,
   "metadata": {},
   "outputs": [
    {
     "name": "stdout",
     "output_type": "stream",
     "text": [
      "1.2247538566589355\n",
      "1.19046950340271\n",
      "1.19046950340271\n",
      "1.156747817993164\n",
      "1.156747817993164\n",
      "1.1236028671264648\n",
      "1.1236028671264648\n",
      "1.0910494327545166\n",
      "1.0910494327545166\n",
      "1.0591013431549072\n",
      "1.0591013431549072\n",
      "1.027773380279541\n",
      "1.027773380279541\n",
      "0.9970797300338745\n",
      "0.9970797300338745\n",
      "0.9670355319976807\n",
      "0.9670355319976807\n",
      "0.9376559257507324\n",
      "0.9376559257507324\n",
      "0.9089565277099609\n"
     ]
    }
   ],
   "source": [
    "import torch\n",
    "import torch.nn as nn\n",
    "import torch.optim as optim\n",
    "\n",
    "class SimpleMultiClassModel(nn.Module):\n",
    "    def __init__(self):\n",
    "        super(SimpleMultiClassModel, self).__init__()\n",
    "        self.fc = nn.Linear(5,3)\n",
    "    def forward(self,x):\n",
    "        return self.fc(x)\n",
    "    \n",
    "model = SimpleMultiClassModel()\n",
    "\n",
    "criterion = nn.CrossEntropyLoss()\n",
    "optimizer = optim.Adam(model.parameters(), lr = 0.01)\n",
    "\n",
    "\n",
    "\n",
    "inputs = torch.randn(4,5)\n",
    "labels = torch.tensor([0,2,1,0])\n",
    "\n",
    "for _ in range(10):\n",
    "    preds = model(inputs)\n",
    "    loss = criterion(preds,labels)\n",
    "    print(loss.item())\n",
    "\n",
    "    optimizer.zero_grad()       # 이전 단계에서 계산된 기울기를 0으로 초기화\n",
    "    loss.backward()             # 손실에 대한 역전파 수행 (파라미터에 대한 기울기 계산)\n",
    "    optimizer.step()            # 계산된 기울기를 사용하여 옵티마이저가 모델의 파라미터 업데이트\n",
    "    preds = model(inputs)\n",
    "    loss = criterion(preds,labels)\n",
    "    print(loss.item())\n",
    "\n",
    "\n"
   ]
  },
  {
   "cell_type": "code",
   "execution_count": null,
   "metadata": {},
   "outputs": [],
   "source": []
  }
 ],
 "metadata": {
  "kernelspec": {
   "display_name": "pystudy_env",
   "language": "python",
   "name": "python3"
  },
  "language_info": {
   "codemirror_mode": {
    "name": "ipython",
    "version": 3
   },
   "file_extension": ".py",
   "mimetype": "text/x-python",
   "name": "python",
   "nbconvert_exporter": "python",
   "pygments_lexer": "ipython3",
   "version": "3.12.9"
  }
 },
 "nbformat": 4,
 "nbformat_minor": 2
}
