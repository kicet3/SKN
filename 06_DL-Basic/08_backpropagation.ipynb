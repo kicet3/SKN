{
 "cells": [
  {
   "cell_type": "code",
   "execution_count": 1,
   "metadata": {},
   "outputs": [],
   "source": [
    "import numpy as np\n",
    "def forward(x):\n",
    "    y = x**2\n",
    "    return y\n",
    "\n",
    "def backward(x):\n",
    "    dy_dx = 2*x\n",
    "    return dy_dx\n",
    "\n",
    "x = 3.0\n",
    "y = forward(x)\n",
    "dy_dx = backward(x)\n",
    "\n",
    "\n"
   ]
  },
  {
   "cell_type": "markdown",
   "metadata": {},
   "source": [
    "- 다층 신경망에서 연쇄 법칙 적용"
   ]
  },
  {
   "cell_type": "code",
   "execution_count": 2,
   "metadata": {},
   "outputs": [
    {
     "name": "stdout",
     "output_type": "stream",
     "text": [
      "12.0\n",
      "None\n"
     ]
    }
   ],
   "source": [
    "def forward(x):\n",
    "    y = x**2\n",
    "    z = 2*y\n",
    "\n",
    "\n",
    "def backward(x):\n",
    "    dy_dx = 2*x\n",
    "    dz_dy = 2\n",
    "    dz_dx = dz_dy * dy_dx\n",
    "    return dz_dx\n",
    "\n",
    "x =3.0\n",
    "print(backward(x))\n",
    "print(forward(x))"
   ]
  },
  {
   "cell_type": "markdown",
   "metadata": {},
   "source": [
    "### 신경망에서의 활용\n",
    "\n",
    "- 단순 신경망 학습"
   ]
  },
  {
   "cell_type": "code",
   "execution_count": 4,
   "metadata": {},
   "outputs": [
    {
     "name": "stdout",
     "output_type": "stream",
     "text": [
      "[0.19525585 0.39240936]\n"
     ]
    }
   ],
   "source": [
    "def sigmoid(x):\n",
    "    return 1 / (1 + np.exp(-x))\n",
    "\n",
    "def sigmoid_d(x):\n",
    "    return sigmoid(x) * (1 - sigmoid(x))\n",
    "\n",
    "x = np.array([0.5,0.8])\n",
    "y = np.array([1])\n",
    "\n",
    "w = np.array([0.2,0.4])\n",
    "\n",
    "# 순전파\n",
    "z = np.dot(x,w)\n",
    "r = sigmoid(z)\n",
    "\n",
    "# 오차 계산\n",
    "loss = 0.5 * (y-r) ** 2\n",
    "\n",
    "# 역전파\n",
    "delta = (y-r) * sigmoid_d(z)\n",
    "grad_w = delta * x\n",
    "\n",
    "# 가중치 계산\n",
    "\n",
    "w -= 0.1 * grad_w\n",
    "\n",
    "print(w)"
   ]
  },
  {
   "cell_type": "markdown",
   "metadata": {},
   "source": [
    "# 은닉층 추가"
   ]
  },
  {
   "cell_type": "code",
   "execution_count": 6,
   "metadata": {},
   "outputs": [
    {
     "name": "stdout",
     "output_type": "stream",
     "text": [
      "[0.19025702 0.38441124]\n"
     ]
    }
   ],
   "source": [
    "def relu(x):\n",
    "    return np.maximum(0,x)\n",
    "\n",
    "def relu_d(x):\n",
    "    return np.where(x>0,1,0)\n",
    "\n",
    "x = np.array([0.5,0.8])\n",
    "y = np.array([1])\n",
    "\n",
    "w1 = np.array([[0.2,0.4],[0.1,0.3]]) # (2,2)\n",
    "b1 = np.array([0.1,0.2]) # (2,)\n",
    "w2 = np.array([[0.5],[0.6]]) # (2,1)\n",
    "b2 = np.array([0.3]) # (1,)\n",
    "\n",
    "# 순전파\n",
    "z1 = np.dot(x,w1) + b1\n",
    "r1 = sigmoid(z1)\n",
    "\n",
    "z2 = np.dot(r1,w2) + b2\n",
    "r2 = relu(z2)\n",
    "\n",
    "# 역전파\n",
    "delta2 = (r2-y) * relu_d(z2)\n",
    "grad_w2 = np.outer(r1,delta2)\n",
    "\n",
    "delta1 = np.dot(delta2,w2.T) * sigmoid_d(z1)\n",
    "grad_w1 = np.outer(x,delta1)\n",
    "\n",
    "# 가중치 갱신\n",
    "\n",
    "\n",
    "print(w)"
   ]
  },
  {
   "cell_type": "code",
   "execution_count": null,
   "metadata": {},
   "outputs": [],
   "source": []
  }
 ],
 "metadata": {
  "kernelspec": {
   "display_name": "skn_ml",
   "language": "python",
   "name": "python3"
  },
  "language_info": {
   "codemirror_mode": {
    "name": "ipython",
    "version": 3
   },
   "file_extension": ".py",
   "mimetype": "text/x-python",
   "name": "python",
   "nbconvert_exporter": "python",
   "pygments_lexer": "ipython3",
   "version": "3.12.9"
  }
 },
 "nbformat": 4,
 "nbformat_minor": 2
}
