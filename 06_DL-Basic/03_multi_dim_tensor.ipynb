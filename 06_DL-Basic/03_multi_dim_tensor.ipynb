{
 "cells": [
  {
   "cell_type": "markdown",
   "metadata": {},
   "source": [
    "# 다차원 텐서 (다차원 배열)"
   ]
  },
  {
   "cell_type": "code",
   "execution_count": 1,
   "metadata": {},
   "outputs": [],
   "source": [
    "import numpy as np"
   ]
  },
  {
   "cell_type": "markdown",
   "metadata": {},
   "source": [
    "### 다차원 배열의 계산 복습\n"
   ]
  },
  {
   "cell_type": "code",
   "execution_count": 7,
   "metadata": {},
   "outputs": [
    {
     "name": "stdout",
     "output_type": "stream",
     "text": [
      "[[ 8 10 12]\n",
      " [14 16 18]]\n",
      "[[2 4 6]\n",
      " [5 7 9]]\n",
      "[[ 50  68]\n",
      " [122 167]]\n"
     ]
    }
   ],
   "source": [
    "A = np.array([[1,2,3],\n",
    "              [4,5,6]])\n",
    "B = np.array([[7,8,9],\n",
    "              [10,11,12]])\n",
    "\n",
    "add_result = A + B\n",
    "\n",
    "vec = np.array([1,2,3])\n",
    "add_result2 = A+ vec    # 브로드캐스트\n",
    "\n",
    "print(add_result)\n",
    "print(add_result2)\n",
    "\n",
    "dot_result = A.dot(B.T)\n",
    "print(dot_result)"
   ]
  },
  {
   "cell_type": "markdown",
   "metadata": {},
   "source": [
    "# 다차원 배열의 계산으로 순전파 구현"
   ]
  },
  {
   "cell_type": "code",
   "execution_count": 67,
   "metadata": {},
   "outputs": [
    {
     "name": "stdout",
     "output_type": "stream",
     "text": [
      "[[0.         0.         0.        ]\n",
      " [0.         1.35222056 0.68253667]\n",
      " [0.55006934 0.         0.        ]\n",
      " [7.87810354 1.19923264 0.01682473]]\n"
     ]
    }
   ],
   "source": [
    "# 입력 데이터\n",
    "X = np.random.randn(4,5) # 4개의 샘플, 5차원 Feature\n",
    "X.shape\n",
    "# 가중치\n",
    "W = np.random.randn(5,3) # 5차원 Feature, 3개의 뉴런\n",
    "\n",
    "# 편향\n",
    "b = np.random.randn(1,3) \n",
    "\n",
    "z = np.dot(X,W) +b\n",
    "\n",
    "result = np.maximum(0,z)\n",
    "print(result)"
   ]
  },
  {
   "cell_type": "markdown",
   "metadata": {},
   "source": [
    "### 다층 퍼셉트론"
   ]
  },
  {
   "cell_type": "code",
   "execution_count": 77,
   "metadata": {},
   "outputs": [
    {
     "data": {
      "text/plain": [
       "(array([[-0.99565109, -0.06064699, -0.99999721,  0.98032478, -0.93387986,\n",
       "          0.99981286,  0.08447521, -0.99994981],\n",
       "        [ 0.93828962, -0.99999916,  0.87849295, -0.99998548,  0.66668053,\n",
       "         -0.9999341 ,  0.95196872, -0.13506317],\n",
       "        [-0.99267214, -0.99989218, -0.9994997 , -0.8691297 , -0.29581376,\n",
       "          0.34916573, -0.85748282, -0.99630456],\n",
       "        [-0.27790778, -0.99978544,  0.94262941,  0.40035246,  0.38559267,\n",
       "         -0.99999994, -0.99984131,  0.49996126],\n",
       "        [-0.99971544,  0.8951523 ,  0.97027091, -0.16900104,  0.25644403,\n",
       "         -0.99975614, -0.99731853,  0.83298276],\n",
       "        [-0.99984109,  0.91125972, -0.7712176 , -0.31308594, -0.3017678 ,\n",
       "         -0.96322881, -0.99820177,  0.96918615]]),\n",
       " array([[0.00353176, 0.91082388, 0.00139965, 0.0842447 ],\n",
       "        [0.00983195, 0.03418425, 0.09779834, 0.85818545],\n",
       "        [0.00554956, 0.62393071, 0.00309108, 0.36742866],\n",
       "        [0.03018781, 0.01106508, 0.16958437, 0.78916273],\n",
       "        [0.40522143, 0.00952299, 0.49357227, 0.0916833 ],\n",
       "        [0.34049283, 0.00761591, 0.64427638, 0.00761488]]))"
      ]
     },
     "execution_count": 77,
     "metadata": {},
     "output_type": "execute_result"
    }
   ],
   "source": [
    "X = np.random.randn(6,10)\n",
    "\n",
    "# 은닉층 : 10개의 입력 => 8개의 뉴런\n",
    "w1 = np.random.randn(10,8)\n",
    "b1 = np.random.randn(1,8)\n",
    "\n",
    "# 출력층 : 8 개의 입력 -> 4개의 클래스\n",
    "w2 = np.random.randn(8,4)\n",
    "b2 = np.random.randn(1,4)\n",
    "\n",
    "# 은닉층 계산 (선형 계산 + tanh 활성화 함수)\n",
    "z1 = np.dot(X,w1) + b1\n",
    "result1 = np.tanh(z1)\n",
    "\n",
    "# 출력층 계산 (선형 계산 + softmax 활성화 함수)\n",
    "z2 = np.dot(result1,w2) + b2\n",
    "exp_z2 = np.exp(z2 - np.max(z2, axis=1, keepdims=True))\n",
    "result2 = exp_z2 / np.sum(exp_z2, axis=1, keepdims=True)\n",
    "\n",
    "result1, result2\n"
   ]
  },
  {
   "cell_type": "markdown",
   "metadata": {},
   "source": [
    "### 이미지 데이터 예시"
   ]
  },
  {
   "cell_type": "code",
   "execution_count": 101,
   "metadata": {},
   "outputs": [
    {
     "name": "stderr",
     "output_type": "stream",
     "text": [
      "Clipping input data to the valid range for imshow with RGB data ([0..1] for floats or [0..255] for integers).\n"
     ]
    },
    {
     "data": {
      "image/png": "[encoded data removed]",
      "text/plain": [
       "<Figure size 640x480 with 3 Axes>"
      ]
     },
     "metadata": {},
     "output_type": "display_data"
    }
   ],
   "source": [
    "import matplotlib.pyplot as plt\n",
    "batch_size = 5\n",
    "channels = 3\n",
    "height = 32\n",
    "width = 32\n",
    "\n",
    "images = np.random.randn(batch_size, channels, height, width)\n",
    "\n",
    "# PyTorch 프레임워크에서는 이미지 데이터를 (채널,높이,너비) 순서로 저장\n",
    "# Matplotlib.pyplot.imshow() 함수는 (높이,너비,채널) 순서로 이미지를 표시\n",
    "# 따라서 transpose() 함수를 이용해 축의 순서를 재배열\n",
    "\n",
    "bright_images = np.clip(images+0.2,0,1)\n",
    "gray_images = np.mean(images,axis=1)\n",
    "\n",
    "images_for_display = images[0].transpose(1,2,0)\n",
    "bright_images_for_display = bright_images[0].transpose(1,2,0)\n",
    "\n",
    "\n",
    "plt.subplot(1,3,1)\n",
    "plt.imshow(images_for_display)\n",
    "plt.axis('off')\n",
    "plt.subplot(1,3,2)\n",
    "plt.imshow(bright_images_for_display)\n",
    "plt.axis('off')\n",
    "plt.subplot(1,3,3)\n",
    "plt.imshow(gray_images[0],cmap='gray')\n",
    "plt.axis('off')\n",
    "plt.show()"
   ]
  },
  {
   "cell_type": "code",
   "execution_count": null,
   "metadata": {},
   "outputs": [],
   "source": []
  },
  {
   "cell_type": "code",
   "execution_count": null,
   "metadata": {},
   "outputs": [],
   "source": []
  }
 ],
 "metadata": {
  "kernelspec": {
   "display_name": "pystudy_env",
   "language": "python",
   "name": "python3"
  },
  "language_info": {
   "codemirror_mode": {
    "name": "ipython",
    "version": 3
   },
   "file_extension": ".py",
   "mimetype": "text/x-python",
   "name": "python",
   "nbconvert_exporter": "python",
   "pygments_lexer": "ipython3",
   "version": "3.12.9"
  }
 },
 "nbformat": 4,
 "nbformat_minor": 2
}
